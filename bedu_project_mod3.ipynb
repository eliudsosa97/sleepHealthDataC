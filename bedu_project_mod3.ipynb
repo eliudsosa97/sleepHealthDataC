{
 "cells": [
  {
   "cell_type": "code",
   "execution_count": null,
   "id": "349ffaf2-99bc-48cf-beaf-5d5064000748",
   "metadata": {},
   "outputs": [],
   "source": [
    "import numpy as np\n",
    "import pandas as pd\n",
    "import matplotlib.pyplot as plt\n",
    "import seaborn as sns"
   ]
  },
  {
   "cell_type": "code",
   "execution_count": null,
   "id": "68145f47-09b6-45c9-a920-d2ec50640de4",
   "metadata": {},
   "outputs": [],
   "source": [
    "df = pd.read_csv('Sleep_health_and_lifestyle_dataset.csv', index_col=0)"
   ]
  },
  {
   "cell_type": "code",
   "execution_count": null,
   "id": "f651eb04-cc43-46bc-9ace-18c127725396",
   "metadata": {},
   "outputs": [],
   "source": [
    "df.head()"
   ]
  },
  {
   "cell_type": "code",
   "execution_count": null,
   "id": "4a67f967-fb29-4135-a76f-8d206e0c9a05",
   "metadata": {
    "scrolled": true
   },
   "outputs": [],
   "source": [
    "# Selección de columnas numéricas\n",
    "numerical_columns = ['Sleep Duration', 'Physical Activity Level', 'Stress Level', 'Heart Rate', 'Daily Steps']\n",
    "\n",
    "# Calcular media\n",
    "mean_values = df[numerical_columns].mean()\n",
    "\n",
    "# Calcular mediana\n",
    "median_values = df[numerical_columns].median()\n",
    "\n",
    "# Calcular moda\n",
    "mode_values = df[numerical_columns].mode().iloc[0]  # mode() devuelve un DataFrame\n",
    "\n",
    "# Calcular desviación estándar\n",
    "std_dev_values = df[numerical_columns].std()\n",
    "\n",
    "# Calcular rango\n",
    "range_values = df[numerical_columns].max() - df[numerical_columns].min()\n",
    "\n",
    "# Calcular percentiles (25%, 50%, 75%)\n",
    "percentiles = df[numerical_columns].quantile([0.25, 0.5, 0.75])\n",
    "\n",
    "# Mostrar resultados\n",
    "print(\"Media:\\n\", mean_values)\n",
    "print(\"\\nMediana:\\n\", median_values)\n",
    "print(\"\\nModa:\\n\", mode_values)\n",
    "print(\"\\nDesviación Estándar:\\n\", std_dev_values)\n",
    "print(\"\\nRango:\\n\", range_values)\n",
    "print(\"\\nPercentiles (25%, 50%, 75%):\\n\", percentiles)\n"
   ]
  },
  {
   "cell_type": "markdown",
   "id": "ed98e082-6b3e-469d-badc-8fb43b4f77d3",
   "metadata": {},
   "source": [
    "### Valores atípicos"
   ]
  },
  {
   "cell_type": "code",
   "execution_count": null,
   "id": "438e3083-5649-47cd-b6c6-2e0a6b90e1fb",
   "metadata": {},
   "outputs": [],
   "source": [
    "# Calcular IQR para identificar valores atípicos\n",
    "Q1 = df[numerical_columns].quantile(0.25)\n",
    "Q3 = df[numerical_columns].quantile(0.75)\n",
    "IQR = Q3 - Q1\n",
    "\n",
    "# Identificar valores atípicos\n",
    "outliers = ((df[numerical_columns] < (Q1 - 1.5 * IQR)) | (df[numerical_columns] > (Q3 + 1.5 * IQR)))\n",
    "\n",
    "# Mostrar los valores atípicos\n",
    "print(\"Outliers detectados:\\n\", df[outliers.any(axis=1)])\n"
   ]
  },
  {
   "cell_type": "markdown",
   "id": "789a0866-b091-4e57-9099-0f2ae0d7566e",
   "metadata": {},
   "source": [
    "### Resumen"
   ]
  },
  {
   "cell_type": "code",
   "execution_count": null,
   "id": "34e05a10-76c0-4149-be7e-457d6fbbe832",
   "metadata": {},
   "outputs": [],
   "source": [
    "summary_table = pd.DataFrame({\n",
    "    'Media': mean_values,\n",
    "    'Mediana': median_values,\n",
    "    'Moda': mode_values,\n",
    "    'Desviación Estándar': std_dev_values,\n",
    "    'Rango': range_values\n",
    "})\n",
    "\n",
    "# Agregar los percentiles a la tabla\n",
    "summary_table['25%'] = percentiles.loc[0.25].values\n",
    "summary_table['50%'] = percentiles.loc[0.5].values\n",
    "summary_table['75%'] = percentiles.loc[0.75].values\n",
    "\n",
    "print(\"Tabla Resumen:\\n\", summary_table)\n"
   ]
  },
  {
   "cell_type": "markdown",
   "id": "1739788d-347a-44a8-9cfc-dd3daeea46e1",
   "metadata": {},
   "source": [
    "#### Hstogramas para cada columna numérica"
   ]
  },
  {
   "cell_type": "code",
   "execution_count": null,
   "id": "8729c0c7-7086-488f-acb6-53181b1c29b4",
   "metadata": {},
   "outputs": [],
   "source": [
    "df[numerical_columns].hist(bins=15, figsize=(15, 10), layout=(2, 3), color='skyblue', edgecolor='black')\n",
    "plt.suptitle('Histogramas de Variables Numéricas')\n",
    "plt.show()\n"
   ]
  },
  {
   "cell_type": "markdown",
   "id": "377bbd93-4575-472b-88bb-a75705237a90",
   "metadata": {},
   "source": [
    "#### Boxplot para identificar los datos atípicos"
   ]
  },
  {
   "cell_type": "code",
   "execution_count": null,
   "id": "1e31175d-3415-4f9c-ab42-2e45611738d6",
   "metadata": {},
   "outputs": [],
   "source": [
    "# Crear boxplots para cada columna numérica\n",
    "plt.figure(figsize=(15, 10))\n",
    "for i, col in enumerate(numerical_columns, 1):\n",
    "    plt.subplot(2, 3, i)\n",
    "    sns.boxplot(y=col, data=df, color='orange')\n",
    "    plt.title(f'Boxplot de {col}')\n",
    "\n",
    "plt.tight_layout()\n",
    "plt.show()\n"
   ]
  },
  {
   "cell_type": "markdown",
   "id": "f54b56e3-383e-4948-b589-309e2253aa4f",
   "metadata": {},
   "source": [
    "#### Gráfico de Barras para variables categóricas"
   ]
  },
  {
   "cell_type": "code",
   "execution_count": null,
   "id": "a488b315-c8a2-431a-85e1-dc307f70ff6f",
   "metadata": {},
   "outputs": [],
   "source": [
    "# Gráfico de barras para la variable 'Occupation'\n",
    "plt.figure(figsize=(10, 6))\n",
    "sns.countplot(x='Occupation', data=df, hue='Occupation', palette='viridis')\n",
    "plt.title('Distribución de Occupation')\n",
    "plt.xticks(rotation=45)\n",
    "plt.show()\n",
    "\n",
    "# Gráfico de barras para la variable 'Sleep Disorder'\n",
    "plt.figure(figsize=(10, 6))\n",
    "sns.countplot(x='Sleep Disorder', data=df, hue='Sleep Disorder', palette='viridis')\n",
    "plt.title('Distribución de Sleep Disorder')\n",
    "plt.xticks(rotation=45)\n",
    "plt.show()\n",
    "\n"
   ]
  },
  {
   "cell_type": "markdown",
   "id": "55d3085e-457d-48fa-bca6-6cf9040f4888",
   "metadata": {},
   "source": [
    "#### Relaciones entre variables"
   ]
  },
  {
   "cell_type": "code",
   "execution_count": null,
   "id": "4d0d98a4-fc0b-4f01-8536-a1e9859ecb7b",
   "metadata": {},
   "outputs": [],
   "source": [
    "# Relación entre Sleep Duration y Stress Level\n",
    "plt.figure(figsize=(10, 6))\n",
    "sns.scatterplot(x='Sleep Duration', y='Stress Level', hue='BMI Category', style='Gender', data=df)\n",
    "plt.title('Relación entre Sleep Duration y Stress Level')\n",
    "plt.show()\n",
    "\n",
    "# Relación entre Physical Activity Level y Sleep Duration segmentado por Sleep Disorder\n",
    "plt.figure(figsize=(10, 6))\n",
    "sns.boxplot(x='Sleep Disorder', y='Physical Activity Level', data=df, hue='Sleep Disorder', palette='Set2')\n",
    "plt.title('Actividad Física vs Sleep Disorder')\n",
    "plt.show()\n"
   ]
  },
  {
   "cell_type": "markdown",
   "id": "6fe5b449-ab11-4107-979c-4bd41e36ee9d",
   "metadata": {},
   "source": [
    "#### Gráfica de Correlaciones"
   ]
  },
  {
   "cell_type": "code",
   "execution_count": null,
   "id": "c79ca09a-4b99-4b01-a068-2b38abb012c9",
   "metadata": {},
   "outputs": [],
   "source": [
    "# Calcular la matriz de correlación\n",
    "correlation_matrix = df[numerical_columns].corr()\n",
    "\n",
    "# Graficar el mapa de calor\n",
    "plt.figure(figsize=(10, 8))\n",
    "sns.heatmap(correlation_matrix, annot=True, cmap='coolwarm', fmt='.2f')\n",
    "plt.title('Mapa de Calor de la Matriz de Correlación')\n",
    "plt.show()\n"
   ]
  },
  {
   "cell_type": "markdown",
   "id": "efff4220-c661-4116-959f-0d939d9f2ba0",
   "metadata": {},
   "source": [
    "#### Graficar la distribución de las variables categóricas con violinplots"
   ]
  },
  {
   "cell_type": "code",
   "execution_count": null,
   "id": "e78bcd7f-d0d7-4467-80b1-9758b1e8f9a7",
   "metadata": {},
   "outputs": [],
   "source": [
    "# Violinplots para explorar variables numéricas segmentadas por variables categóricas\n",
    "plt.figure(figsize=(15, 10))\n",
    "\n",
    "# Violinplot para 'Sleep Duration' segmentado por 'BMI Category'\n",
    "plt.subplot(2, 2, 1)\n",
    "sns.violinplot(x='BMI Category', y='Sleep Duration', data=df, hue='BMI Category', palette='muted')\n",
    "plt.title('Sleep Duration por BMI Category')\n",
    "\n",
    "# Violinplot para 'Physical Activity Level' segmentado por 'BMI Category'\n",
    "plt.subplot(2, 2, 2)\n",
    "sns.violinplot(x='BMI Category', y='Physical Activity Level', data=df, hue='BMI Category', palette='muted')\n",
    "plt.title('Physical Activity Level por BMI Category')\n",
    "\n",
    "# Violinplot para 'Heart Rate' segmentado por 'Gender'\n",
    "plt.subplot(2, 2, 3)\n",
    "sns.violinplot(x='Gender', y='Heart Rate', data=df, hue='Gender', palette='muted')\n",
    "plt.title('Heart Rate por Gender')\n",
    "\n",
    "# Violinplot para 'Stress Level' segmentado por 'Sleep Disorder'\n",
    "plt.subplot(2, 2, 4)\n",
    "sns.violinplot(x='Sleep Disorder', y='Stress Level', data=df, hue='Sleep Disorder', palette='muted')\n",
    "plt.title('Stress Level por Sleep Disorder')\n",
    "\n",
    "plt.tight_layout()\n",
    "plt.show()\n"
   ]
  },
  {
   "cell_type": "markdown",
   "id": "80c30ea2-1fbb-428f-9cb9-3e369aa6f7f2",
   "metadata": {},
   "source": [
    "#### Modelo de regresión lineal simple"
   ]
  },
  {
   "cell_type": "code",
   "execution_count": null,
   "id": "62692ea1-b34a-4737-a001-a71afafa8e1c",
   "metadata": {},
   "outputs": [],
   "source": [
    "from sklearn.model_selection import train_test_split\n",
    "from sklearn.linear_model import LinearRegression\n",
    "from sklearn.metrics import mean_squared_error, r2_score\n",
    "\n",
    "# Seleccionar las características y la variable objetivo\n",
    "X = df[['Stress Level']]\n",
    "y = df['Sleep Duration']\n",
    "\n",
    "# Dividir en conjuntos de entrenamiento y prueba\n",
    "X_train, X_test, y_train, y_test = train_test_split(X, y, test_size=0.2, random_state=42)\n",
    "\n",
    "# Crear el modelo de regresión lineal\n",
    "model = LinearRegression()\n",
    "\n",
    "# Entrenar el modelo\n",
    "model.fit(X_train, y_train)\n",
    "\n",
    "# Hacer predicciones\n",
    "y_pred = model.predict(X_test)\n",
    "\n",
    "# Evaluar el modelo\n",
    "mse = mean_squared_error(y_test, y_pred)\n",
    "r2 = r2_score(y_test, y_pred)\n",
    "\n",
    "print(f'Mean Squared Error: {mse}')\n",
    "print(f'R^2 Score: {r2}')\n",
    "\n",
    "# Graficar la línea de regresión\n",
    "plt.figure(figsize=(10, 6))\n",
    "sns.scatterplot(x=X_test['Stress Level'], y=y_test, label='Actual', color='blue')\n",
    "sns.lineplot(x=X_test['Stress Level'], y=y_pred, label='Predicted', color='red')\n",
    "plt.title('Regresión Lineal: Sleep Duration vs Stress Level')\n",
    "plt.show()\n"
   ]
  },
  {
   "cell_type": "markdown",
   "id": "84c059a6-2c66-41b9-9510-687418ee29e5",
   "metadata": {},
   "source": [
    "#### Relación entre variables categoricas y numéricas"
   ]
  },
  {
   "cell_type": "code",
   "execution_count": null,
   "id": "e5e014d8-1420-42ab-93db-5a1e9cd0512d",
   "metadata": {},
   "outputs": [],
   "source": [
    "# Boxplot para explorar la relación entre 'Occupation' y 'Sleep Duration'\n",
    "plt.figure(figsize=(10, 6))\n",
    "sns.boxplot(x='Occupation', y='Sleep Duration', data=df, hue='Occupation', palette='Set3')\n",
    "plt.title('Sleep Duration por Occupation')\n",
    "plt.xticks(rotation=45)\n",
    "plt.show()\n",
    "\n",
    "# Boxplot para explorar la relación entre 'Sleep Disorder' y 'Heart Rate'\n",
    "plt.figure(figsize=(10, 6))\n",
    "sns.boxplot(x='Sleep Disorder', y='Heart Rate', data=df, hue='Sleep Disorder', palette='Set3')\n",
    "plt.title('Heart Rate por Sleep Disorder')\n",
    "plt.show()\n"
   ]
  },
  {
   "cell_type": "markdown",
   "id": "eee7b0d3-eee5-47a5-bf16-d08c81001549",
   "metadata": {},
   "source": [
    "#### Visualizar con Pairplot"
   ]
  },
  {
   "cell_type": "code",
   "execution_count": null,
   "id": "bdf552ae-5373-4026-a8ba-b248c8fcda39",
   "metadata": {},
   "outputs": [],
   "source": [
    "sns.pairplot(df, hue='Sleep Disorder', vars=numerical_columns, palette='husl')\n",
    "plt.suptitle('Relaciones entre variables numéricas y Sleep Disorder', y=1.02)\n",
    "plt.show()\n"
   ]
  }
 ],
 "metadata": {
  "kernelspec": {
   "display_name": "Python 3 (ipykernel)",
   "language": "python",
   "name": "python3"
  },
  "language_info": {
   "codemirror_mode": {
    "name": "ipython",
    "version": 3
   },
   "file_extension": ".py",
   "mimetype": "text/x-python",
   "name": "python",
   "nbconvert_exporter": "python",
   "pygments_lexer": "ipython3",
   "version": "3.10.11"
  }
 },
 "nbformat": 4,
 "nbformat_minor": 5
}
